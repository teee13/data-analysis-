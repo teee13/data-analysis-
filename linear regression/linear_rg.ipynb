India's GDP per capita over the years
import pandas as pd
from sklearn import linear_model
import matplotlib.pyplot as plt
df=pd.read_csv('ind_gdp.csv')
df
year	GDP per capita (current US$)
0	1960	82.188603
1	1961	85.354301
2	1962	89.881756
3	1963	101.126429
4	1964	115.537496
...	...	...
56	2016	1732.554242
57	2017	1980.667020
58	2018	1996.915087
59	2019	2100.751461
60	2020	1900.706810
61 rows × 2 columns

df.head()
year	GDP per capita (current US$)
0	1960	82.188603
1	1961	85.354301
2	1962	89.881756
3	1963	101.126429
4	1964	115.537496
list(df.columns)
['year', 'GDP per capita (current US$)']
df.columns=['year','GDP']
%matplotlib inline
plt.xlabel('year')
plt.ylabel('GDP(per capita in US$)')
plt.scatter(df.year,df.GDP,color='blue',marker='*')
<matplotlib.collections.PathCollection at 0x23750addfd0>

rg=linear_model.LinearRegression()
rg.fit(df[['year']],df.GDP)
LinearRegression()
y=mx+c
best fit line for the data
m=rg.coef_
m
array([28.41229318])
c=rg.intercept_
c
-55965.37179054593
plt.xlabel('year')
plt.ylabel('GDP(per capita in US$)')
plt.scatter(df.year,df.GDP,color='blue',marker='*')
x=df[['year']]
plt.plot(df[['year']],m*x+c,color='orange')
[<matplotlib.lines.Line2D at 0x23750d05070>]

predicting the gdp per capita in 2031
rg.predict([[2031]])
array([1739.99566494])
 
