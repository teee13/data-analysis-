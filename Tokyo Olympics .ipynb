{
 "cells": [
  {
   "cell_type": "code",
   "execution_count": 12,
   "id": "b861592b",
   "metadata": {},
   "outputs": [],
   "source": [
    "import pandas as pd\n",
    "import matplotlib.pyplot as plt\n",
    "import numpy as np\n",
    "\n"
   ]
  },
  {
   "cell_type": "markdown",
   "id": "992df177",
   "metadata": {},
   "source": [
    "# Questions to answer\n",
    "### how many countries participated\n",
    "### male vs female participation\n",
    "### top 5 countries comparision\n",
    "### country with best improvement\n",
    "### India's performance\n",
    "### countries with no medals\n",
    "### economy vs medals\n",
    "### countries with heighest female medalists \n"
   ]
  },
  {
   "cell_type": "markdown",
   "id": "c3643e3a",
   "metadata": {},
   "source": [
    "# Number of participating countries\n"
   ]
  },
  {
   "cell_type": "code",
   "execution_count": 8,
   "id": "f260339c",
   "metadata": {},
   "outputs": [],
   "source": [
    "df=pd.read_csv('athletes.csv')"
   ]
  },
  {
   "cell_type": "code",
   "execution_count": 9,
   "id": "1a7d9eef",
   "metadata": {},
   "outputs": [
    {
     "name": "stdout",
     "output_type": "stream",
     "text": [
      "                        name   short_name  gender  birth_date  birth_place  \\\n",
      "0            AALERUD Katrine    AALERUD K  Female  1994-12-04       VESTBY   \n",
      "1                ABAD Nestor       ABAD N    Male  1993-03-29        ALCOI   \n",
      "2          ABAGNALE Giovanni   ABAGNALE G    Male  1995-01-11     GRAGNANO   \n",
      "3             ABALDE Alberto     ABALDE A    Male  1995-12-15       FERROL   \n",
      "4              ABALDE Tamara     ABALDE T  Female  1989-02-06         VIGO   \n",
      "...                      ...          ...     ...         ...          ...   \n",
      "11651  ZWICKER Martin Detlef   ZWICKER MD    Male  1987-02-27       KOTHEN   \n",
      "11652      ZWOLINSKA Klaudia  ZWOLINSKA K  Female  1998-12-18          NaN   \n",
      "11653           ZYKOVA Yulia     ZYKOVA Y  Female  1995-11-25  KRASNOYARSK   \n",
      "11654      ZYUZINA Ekaterina    ZYUZINA E  Female  1996-12-08      LIPETSK   \n",
      "11655        ZYZANSKA Sylwia   ZYZANSKA S  Female  1997-07-27          NaN   \n",
      "\n",
      "            birth_country  country country_code           discipline  \\\n",
      "0                  Norway   Norway          NOR         Cycling Road   \n",
      "1                   Spain    Spain          ESP  Artistic Gymnastics   \n",
      "2                   Italy    Italy          ITA               Rowing   \n",
      "3                   Spain    Spain          ESP           Basketball   \n",
      "4                   Spain    Spain          ESP           Basketball   \n",
      "...                   ...      ...          ...                  ...   \n",
      "11651             Germany  Germany          GER               Hockey   \n",
      "11652                 NaN   Poland          POL         Canoe Slalom   \n",
      "11653  Russian Federation      ROC          ROC             Shooting   \n",
      "11654  Russian Federation      ROC          ROC              Sailing   \n",
      "11655                 NaN   Poland          POL              Archery   \n",
      "\n",
      "      discipline_code residence_place   residence_country height_m/ft  \\\n",
      "0                 CRD             NaN                 NaN         NaN   \n",
      "1                 GAR          MADRID               Spain  1.65/5'4''   \n",
      "2                 ROW        SABAUDIA               Italy  1.98/6'5''   \n",
      "3                 BKB             NaN                 NaN  2.00/6'6''   \n",
      "4                 BKB             NaN                 NaN  1.92/6'3''   \n",
      "...               ...             ...                 ...         ...   \n",
      "11651             HOC             NaN                 NaN  1.76/5'9''   \n",
      "11652             CSL       NOWY SACZ              Poland         NaN   \n",
      "11653             SHO     KRASNOYARSK  Russian Federation         NaN   \n",
      "11654             SAL         LIPETSK  Russian Federation         NaN   \n",
      "11655             ARC             NaN                 NaN         NaN   \n",
      "\n",
      "                                                     url  \n",
      "0      ../../../en/results/cycling-road/athlete-profi...  \n",
      "1      ../../../en/results/artistic-gymnastics/athlet...  \n",
      "2      ../../../en/results/rowing/athlete-profile-n13...  \n",
      "3      ../../../en/results/basketball/athlete-profile...  \n",
      "4      ../../../en/results/basketball/athlete-profile...  \n",
      "...                                                  ...  \n",
      "11651  ../../../en/results/hockey/athlete-profile-n13...  \n",
      "11652  ../../../en/results/canoe-slalom/athlete-profi...  \n",
      "11653  ../../../en/results/shooting/athlete-profile-n...  \n",
      "11654  ../../../en/results/sailing/athlete-profile-n1...  \n",
      "11655  ../../../en/results/archery/athlete-profile-n1...  \n",
      "\n",
      "[11656 rows x 14 columns]\n"
     ]
    }
   ],
   "source": [
    "print(df)"
   ]
  },
  {
   "cell_type": "code",
   "execution_count": 10,
   "id": "f9779185",
   "metadata": {},
   "outputs": [
    {
     "data": {
      "text/plain": [
       "array(['Norway', 'Spain', 'Italy', 'France', 'Chile', 'Sudan',\n",
       "       'Islamic Republic of Iran', 'Azerbaijan', 'Netherlands',\n",
       "       'Australia', 'United States of America', 'Qatar', 'Egypt',\n",
       "       'Belgium', 'Malaysia', 'Singapore', 'Maldives', 'Saudi Arabia',\n",
       "       'Germany', 'Uzbekistan', 'Indonesia', 'Kazakhstan', 'Bahrain',\n",
       "       'Japan', 'Ethiopia', 'Canada', 'Malta', 'Sri Lanka', 'Morocco',\n",
       "       'Austria', 'Mauritania', 'ROC', 'Brazil', 'Libya', 'Nauru',\n",
       "       'Switzerland', 'South Africa', 'Guyana', 'Georgia', 'Portugal',\n",
       "       'Jordan', 'Palestine', 'India', 'Cyprus', 'Nigeria', 'Tunisia',\n",
       "       'Serbia', 'Mexico', 'Colombia', 'El Salvador', 'Romania', 'Poland',\n",
       "       'Federated States of Micronesia', 'New Zealand', 'Turkey',\n",
       "       'Sweden', 'Great Britain', 'Hungary', 'Lithuania', 'Puerto Rico',\n",
       "       'Angola', 'Congo', 'Monaco', 'Rwanda', 'Kenya', 'Armenia',\n",
       "       'Samoa (until 1996 Western Samoa)', 'Brunei Darussalam',\n",
       "       'Bangladesh', 'Republic of Korea', 'Benin', \"Côte d'Ivoire\",\n",
       "       'Trinidad and Tobago', \"People's Republic of China\", 'Senegal',\n",
       "       'Algeria', 'Tajikistan', 'Pakistan', 'Kyrgyzstan', 'Latvia',\n",
       "       'Oman', 'Kuwait', 'Iraq', 'EOR', 'Yemen', 'Israel', 'Cuba',\n",
       "       'Argentina', 'Ukraine', 'United Arab Emirates', 'Niger',\n",
       "       'Djibouti', 'Somalia', 'Bulgaria', 'Bermuda', 'Ireland', 'Jamaica',\n",
       "       'Estonia', 'Paraguay', 'Costa Rica', 'Dominican Republic',\n",
       "       'Honduras', 'Cape Verde', 'Greece', 'Venezuela', 'Uganda', 'Peru',\n",
       "       'Belarus', 'San Marino', 'Ghana', 'Ecuador', 'Botswana', 'Bahamas',\n",
       "       'Denmark', 'Philippines', 'Guam', 'Madagascar', 'Haiti',\n",
       "       'Czech Republic', 'Montenegro', 'Afghanistan', 'Uruguay', 'Panama',\n",
       "       'Finland', 'Cameroon', 'Syrian Arab Republic', 'Turkmenistan',\n",
       "       'Hong Kong, China', 'Togo', 'Seychelles', 'Mongolia', 'Slovenia',\n",
       "       'Guinea', 'Slovakia', 'Fiji', 'Zambia', 'Nicaragua',\n",
       "       'Sierra Leone', 'Guatemala', 'Papua New Guinea', 'Gambia', 'LBN',\n",
       "       'Cook Islands', 'Barbados', 'Luxembourg', 'Republic of Moldova',\n",
       "       'Nepal', 'Croatia', 'Kiribati', 'North Macedonia', 'Malawi',\n",
       "       'Democratic Republic of the Congo',\n",
       "       \"Lao People's Democratic Republic\", 'Thailand',\n",
       "       'St Vincent and the Grenadines', 'Albania', 'Guinea-Bissau',\n",
       "       'Bolivia', 'Bosnia and Herzegovina', 'Chinese Taipei',\n",
       "       'Saint Lucia', 'Palau', 'Mauritius', 'Saint Kitts and Nevis',\n",
       "       'Cayman Islands', 'American Samoa', 'Belize', 'Vanuatu',\n",
       "       'Sao Tome and Principe', 'Timor-Leste', 'Virgin Islands, US',\n",
       "       'Eritrea', 'Mali', 'Burkina Faso', 'Tonga', 'Namibia', 'Vietnam',\n",
       "       'Eswatini', 'Andorra', 'Aruba', 'Comoros', 'Equatorial Guinea',\n",
       "       'Liberia', 'Grenada', 'Solomon Islands', 'Marshall Islands',\n",
       "       'Burundi', 'United Republic of Tanzania', 'Gabon', 'Kosovo',\n",
       "       'Antigua and Barbuda', 'Mozambique', 'Iceland', 'South Sudan',\n",
       "       'Liechtenstein', 'Cambodia', 'Chad', 'Bhutan', 'Zimbabwe',\n",
       "       'Lesotho', 'Dominique', 'Tuvalu', 'Virgin Islands, British',\n",
       "       'Central African Republic', 'Myanmar', 'Suriname'], dtype=object)"
      ]
     },
     "execution_count": 10,
     "metadata": {},
     "output_type": "execute_result"
    }
   ],
   "source": [
    "df.country.unique()"
   ]
  },
  {
   "cell_type": "code",
   "execution_count": 14,
   "id": "c8d60aa8",
   "metadata": {},
   "outputs": [],
   "source": [
    "unique_country=df.country.unique()"
   ]
  },
  {
   "cell_type": "code",
   "execution_count": 18,
   "id": "16cdd87a",
   "metadata": {},
   "outputs": [],
   "source": [
    "count=0\n",
    "for i in range(0,len(unique_country)):\n",
    "    count+=1\n",
    "    "
   ]
  },
  {
   "cell_type": "code",
   "execution_count": 19,
   "id": "d58fe72e",
   "metadata": {},
   "outputs": [
    {
     "name": "stdout",
     "output_type": "stream",
     "text": [
      "206\n"
     ]
    }
   ],
   "source": [
    "print(count)"
   ]
  },
  {
   "cell_type": "markdown",
   "id": "321dc1b0",
   "metadata": {},
   "source": [
    "### A total of 206 countries participated in the 2020 olympics"
   ]
  },
  {
   "cell_type": "markdown",
   "id": "839a7c0b",
   "metadata": {},
   "source": [
    "# Female and Male participation"
   ]
  },
  {
   "cell_type": "code",
   "execution_count": 20,
   "id": "6b554511",
   "metadata": {},
   "outputs": [],
   "source": [
    "gender=df.gender"
   ]
  },
  {
   "cell_type": "code",
   "execution_count": 28,
   "id": "0ef8e3f6",
   "metadata": {},
   "outputs": [],
   "source": [
    "female=0\n",
    "male=0\n",
    "for i in range(0,len(df['gender'])):\n",
    "    if df['gender'][i]=='Male':\n",
    "       male+=1\n",
    "     \n",
    "    else : female+=1\n",
    "    "
   ]
  },
  {
   "cell_type": "code",
   "execution_count": 29,
   "id": "2782427e",
   "metadata": {},
   "outputs": [
    {
     "name": "stdout",
     "output_type": "stream",
     "text": [
      "5654 6002\n"
     ]
    }
   ],
   "source": [
    "print(female,male)"
   ]
  },
  {
   "cell_type": "code",
   "execution_count": 34,
   "id": "7805b7b9",
   "metadata": {},
   "outputs": [],
   "source": [
    "names=['Female','Males']\n",
    "values=[5654,6002]"
   ]
  },
  {
   "cell_type": "code",
   "execution_count": 35,
   "id": "193ee699",
   "metadata": {},
   "outputs": [
    {
     "data": {
      "text/plain": [
       "<BarContainer object of 2 artists>"
      ]
     },
     "execution_count": 35,
     "metadata": {},
     "output_type": "execute_result"
    },
    {
     "data": {
      "image/png": "[encoded data removed]",
      "text/plain": [
       "<Figure size 432x288 with 1 Axes>"
      ]
     },
     "metadata": {
      "needs_background": "light"
     },
     "output_type": "display_data"
    }
   ],
   "source": [
    "plt.bar(names,values)"
   ]
  },
  {
   "cell_type": "markdown",
   "id": "537905f6",
   "metadata": {},
   "source": [
    "# Top five countries"
   ]
  },
  {
   "cell_type": "code",
   "execution_count": 37,
   "id": "db52cdb3",
   "metadata": {},
   "outputs": [],
   "source": [
    "df2=pd.read_csv('medals.csv')"
   ]
  },
  {
   "cell_type": "code",
   "execution_count": 38,
   "id": "99cc5951",
   "metadata": {},
   "outputs": [
    {
     "name": "stdout",
     "output_type": "stream",
     "text": [
      "        medal_type  medal_code             medal_date athlete_short_name  \\\n",
      "0       Gold Medal           1  2021-07-24 00:00:00.0             KIM JD   \n",
      "1       Gold Medal           1  2021-07-24 00:00:00.0               AN S   \n",
      "2     Silver Medal           2  2021-07-24 00:00:00.0       SCHLOESSER G   \n",
      "3     Silver Medal           2  2021-07-24 00:00:00.0           WIJLER S   \n",
      "4     Bronze Medal           3  2021-07-24 00:00:00.0          ALVAREZ L   \n",
      "...            ...         ...                    ...                ...   \n",
      "2396  Bronze Medal           3  2021-08-08 00:00:00.0             NAGY V   \n",
      "2397  Bronze Medal           3  2021-08-08 00:00:00.0            VAMOS M   \n",
      "2398  Bronze Medal           3  2021-08-08 00:00:00.0            VARGA D   \n",
      "2399  Bronze Medal           3  2021-08-08 00:00:00.0            VOGEL S   \n",
      "2400  Bronze Medal           3  2021-08-08 00:00:00.0          ZALANKI G   \n",
      "\n",
      "             athlete_name athlete_sex  \\\n",
      "0             KIM Je Deok           X   \n",
      "1                  AN San           X   \n",
      "2     SCHLOESSER Gabriela           X   \n",
      "3            WIJLER Steve           X   \n",
      "4            ALVAREZ Luis           X   \n",
      "...                   ...         ...   \n",
      "2396          NAGY Viktor           M   \n",
      "2397         VAMOS Marton           M   \n",
      "2398          VARGA Denes           M   \n",
      "2399           VOGEL Soma           M   \n",
      "2400        ZALANKI Gergo           M   \n",
      "\n",
      "                                           athlete_link country_code  \\\n",
      "0     ../../../en/results/archery/athlete-profile-n1...          KOR   \n",
      "1     ../../../en/results/archery/athlete-profile-n1...          KOR   \n",
      "2     ../../../en/results/archery/athlete-profile-n1...          NED   \n",
      "3     ../../../en/results/archery/athlete-profile-n1...          NED   \n",
      "4     ../../../en/results/archery/athlete-profile-n1...          MEX   \n",
      "...                                                 ...          ...   \n",
      "2396  ../../../en/results/water-polo/athlete-profile...          HUN   \n",
      "2397  ../../../en/results/water-polo/athlete-profile...          HUN   \n",
      "2398  ../../../en/results/water-polo/athlete-profile...          HUN   \n",
      "2399  ../../../en/results/water-polo/athlete-profile...          HUN   \n",
      "2400  ../../../en/results/water-polo/athlete-profile...          HUN   \n",
      "\n",
      "     discipline_code       event            country  discipline  \n",
      "0                ARC  Mixed Team  Republic of Korea     Archery  \n",
      "1                ARC  Mixed Team  Republic of Korea     Archery  \n",
      "2                ARC  Mixed Team        Netherlands     Archery  \n",
      "3                ARC  Mixed Team        Netherlands     Archery  \n",
      "4                ARC  Mixed Team             Mexico     Archery  \n",
      "...              ...         ...                ...         ...  \n",
      "2396             WPO         Men            Hungary  Water Polo  \n",
      "2397             WPO         Men            Hungary  Water Polo  \n",
      "2398             WPO         Men            Hungary  Water Polo  \n",
      "2399             WPO         Men            Hungary  Water Polo  \n",
      "2400             WPO         Men            Hungary  Water Polo  \n",
      "\n",
      "[2401 rows x 12 columns]\n"
     ]
    }
   ],
   "source": [
    "print(df2)"
   ]
  },
  {
   "cell_type": "code",
   "execution_count": null,
   "id": "12132aad",
   "metadata": {},
   "outputs": [],
   "source": []
  }
 ],
 "metadata": {
  "kernelspec": {
   "display_name": "Python 3",
   "language": "python",
   "name": "python3"
  },
  "language_info": {
   "codemirror_mode": {
    "name": "ipython",
    "version": 3
   },
   "file_extension": ".py",
   "mimetype": "text/x-python",
   "name": "python",
   "nbconvert_exporter": "python",
   "pygments_lexer": "ipython3",
   "version": "3.8.8"
  }
 },
 "nbformat": 4,
 "nbformat_minor": 5
}
